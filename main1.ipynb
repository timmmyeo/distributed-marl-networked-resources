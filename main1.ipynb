{
 "cells": [
  {
   "cell_type": "code",
   "execution_count": null,
   "metadata": {},
   "outputs": [],
   "source": [
    "import custom_environments\n",
    "import gym\n",
    "import os\n",
    "import pandas as pd"
   ]
  },
  {
   "cell_type": "code",
   "execution_count": null,
   "metadata": {},
   "outputs": [],
   "source": [
    "machines_data = []\n",
    "\n",
    "print (\"Opening files machine data files:\")\n",
    "path_to_machine_data = os.path.join(os.getcwd(), \"machine_data\")\n",
    "for filename in os.listdir(path_to_machine_data):\n",
    "  df = pd.read_csv(os.path.join(path_to_machine_data, filename))\n",
    "  machine_name = os.path.splitext(filename)[0]\n",
    "  print(machine_name)\n",
    "  print(df.head())\n",
    "  machine_data = [row[1] for row in df.values.tolist()]\n",
    "  machines_data.append(machine_data)"
   ]
  },
  {
   "cell_type": "code",
   "execution_count": null,
   "metadata": {},
   "outputs": [],
   "source": [
    "num_datacentres = 2\n",
    "datacentre_mapping = {\n",
    "  0: 0, 1: 0, 2: 0, 3: 0, 4: 0,\n",
    "  5: 1, 6: 1, 7: 1, 8: 1, 9: 1,\n",
    "}"
   ]
  },
  {
   "cell_type": "code",
   "execution_count": null,
   "metadata": {},
   "outputs": [],
   "source": [
    "env = gym.make('custom_environments/MultiDataCenterEnvironment', \n",
    "                machines_data=machines_data, \n",
    "                datacentre_mapping=datacentre_mapping, \n",
    "                num_datacentres=num_datacentres\n",
    "              )"
   ]
  },
  {
   "cell_type": "code",
   "execution_count": null,
   "metadata": {},
   "outputs": [],
   "source": [
    "terminated = False\n",
    "done = False\n",
    "env.reset()\n",
    "while not (done or terminated):\n",
    "  observation, reward, done, terminated, info = env.step(10)\n",
    "  print(observation)\n",
    "  \n",
    "  "
   ]
  },
  {
   "cell_type": "code",
   "execution_count": null,
   "metadata": {},
   "outputs": [],
   "source": []
  }
 ],
 "metadata": {
  "kernelspec": {
   "display_name": "Python 3.10.8 ('venv': venv)",
   "language": "python",
   "name": "python3"
  },
  "language_info": {
   "codemirror_mode": {
    "name": "ipython",
    "version": 3
   },
   "file_extension": ".py",
   "mimetype": "text/x-python",
   "name": "python",
   "nbconvert_exporter": "python",
   "pygments_lexer": "ipython3",
   "version": "3.10.8 (main, Oct 12 2022, 19:14:26) [GCC 9.4.0]"
  },
  "orig_nbformat": 4,
  "vscode": {
   "interpreter": {
    "hash": "b1613945e647844addf2545e818613ee1909d61cc62972b9823feea8a4433a37"
   }
  }
 },
 "nbformat": 4,
 "nbformat_minor": 2
}
