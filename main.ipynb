{
 "cells": [
  {
   "cell_type": "code",
   "execution_count": 1,
   "metadata": {},
   "outputs": [],
   "source": [
    "import custom_environments\n",
    "import gymnasium as gym\n",
    "import os\n",
    "import pandas as pd\n",
    "import numpy as np"
   ]
  },
  {
   "cell_type": "code",
   "execution_count": 2,
   "metadata": {},
   "outputs": [
    {
     "name": "stdout",
     "output_type": "stream",
     "text": [
      "Opening files machine data files:\n",
      "m_1932\n",
      "   time_step  cpu_util_percent\n",
      "0          0         36.444444\n",
      "1          1         33.750000\n",
      "2          2         31.250000\n",
      "3          3         35.600000\n",
      "4          4         34.800000\n",
      "m_1933\n",
      "   time_step  cpu_util_percent\n",
      "0          0          5.240000\n",
      "1          1          5.000000\n",
      "2          2          5.470588\n",
      "3          3          5.923077\n",
      "4          4          5.153846\n",
      "m_1934\n",
      "   time_step  cpu_util_percent\n",
      "0          0         46.800000\n",
      "1          1         43.857143\n",
      "2          2         52.000000\n",
      "3          3         54.500000\n",
      "4          4         39.750000\n",
      "m_1935\n",
      "   time_step  cpu_util_percent\n",
      "0          0         40.863636\n",
      "1          1         39.500000\n",
      "2          2         37.833333\n",
      "3          3         38.875000\n",
      "4          4         38.000000\n",
      "m_1936\n",
      "   time_step  cpu_util_percent\n",
      "0          0         38.200000\n",
      "1          1         39.636364\n",
      "2          2         33.000000\n",
      "3          3         31.500000\n",
      "4          4         32.750000\n",
      "m_1937\n",
      "   time_step  cpu_util_percent\n",
      "0          0         37.000000\n",
      "1          1         45.000000\n",
      "2          2         36.333333\n",
      "3          3         38.666667\n",
      "4          4         31.000000\n",
      "m_1938\n",
      "   time_step  cpu_util_percent\n",
      "0          0         29.500000\n",
      "1          1         29.000000\n",
      "2          2         35.200000\n",
      "3          3         47.555556\n",
      "4          4         33.200000\n",
      "m_1939\n",
      "   time_step  cpu_util_percent\n",
      "0          0         49.000000\n",
      "1          1         49.000000\n",
      "2          2         47.352941\n",
      "3          3         43.235294\n",
      "4          4         39.117647\n",
      "m_1940\n",
      "   time_step  cpu_util_percent\n",
      "0          0         46.545455\n",
      "1          1         45.000000\n",
      "2          2         41.000000\n",
      "3          3         37.000000\n",
      "4          4         35.000000\n",
      "m_1941\n",
      "   time_step  cpu_util_percent\n",
      "0          0         28.571429\n",
      "1          1         24.000000\n",
      "2          2         24.600000\n",
      "3          3         26.600000\n",
      "4          4         25.600000\n"
     ]
    }
   ],
   "source": [
    "machines_data = []\n",
    "\n",
    "print (\"Opening files machine data files:\")\n",
    "path_to_machine_data = os.path.join(os.getcwd(), \"machine_data\")\n",
    "for filename in os.listdir(path_to_machine_data):\n",
    "  df = pd.read_csv(os.path.join(path_to_machine_data, filename))\n",
    "  machine_name = os.path.splitext(filename)[0]\n",
    "  print(machine_name)\n",
    "  print(df.head())\n",
    "  machine_data = [np.float32(row[1]) for row in df.values.tolist()]\n",
    "  machines_data.append(machine_data)"
   ]
  },
  {
   "cell_type": "code",
   "execution_count": 3,
   "metadata": {},
   "outputs": [],
   "source": [
    "num_datacentres = 2\n",
    "datacentre_mapping = {\n",
    "  0: 0, 1: 0, 2: 0, 3: 0, 4: 0,\n",
    "  5: 1, 6: 1, 7: 1, 8: 1, 9: 1,\n",
    "}"
   ]
  },
  {
   "cell_type": "code",
   "execution_count": 4,
   "metadata": {},
   "outputs": [],
   "source": [
    "env = gym.make('custom_environments/MultiDataCenterEnvironment', \n",
    "                machines_data=machines_data, \n",
    "                datacentre_mapping=datacentre_mapping, \n",
    "                num_datacentres=num_datacentres\n",
    "              )"
   ]
  },
  {
   "cell_type": "code",
   "execution_count": 5,
   "metadata": {},
   "outputs": [
    {
     "name": "stdout",
     "output_type": "stream",
     "text": [
      "{'machines_curr_state': (array([33.75], dtype=float32), array([5.], dtype=float32), array([43.857143], dtype=float32), array([39.5], dtype=float32), array([39.636364], dtype=float32), array([45.], dtype=float32), array([29.], dtype=float32), array([49.], dtype=float32), array([45.], dtype=float32), array([24.], dtype=float32)), 'workload': array([96.42313], dtype=float32), 'workload_datacentre': 1}\n",
      "{'machines_curr_state': (array([31.25], dtype=float32), array([5.470588], dtype=float32), array([52.], dtype=float32), array([37.833332], dtype=float32), array([33.], dtype=float32), array([36.333332], dtype=float32), array([35.2], dtype=float32), array([47.35294], dtype=float32), array([41.], dtype=float32), array([24.6], dtype=float32)), 'workload': array([38.73855], dtype=float32), 'workload_datacentre': 0}\n",
      "{'machines_curr_state': (array([35.6], dtype=float32), array([5.923077], dtype=float32), array([54.5], dtype=float32), array([38.875], dtype=float32), array([31.5], dtype=float32), array([38.666668], dtype=float32), array([47.555557], dtype=float32), array([43.235294], dtype=float32), array([37.], dtype=float32), array([26.6], dtype=float32)), 'workload': array([44.004227], dtype=float32), 'workload_datacentre': 1}\n",
      "{'machines_curr_state': (array([34.8], dtype=float32), array([5.1538463], dtype=float32), array([39.75], dtype=float32), array([38.], dtype=float32), array([32.75], dtype=float32), array([31.], dtype=float32), array([33.2], dtype=float32), array([39.117645], dtype=float32), array([35.], dtype=float32), array([25.6], dtype=float32)), 'workload': array([72.142784], dtype=float32), 'workload_datacentre': 1}\n",
      "{'machines_curr_state': (array([34.], dtype=float32), array([6.], dtype=float32), array([44.], dtype=float32), array([36.837208], dtype=float32), array([34.25], dtype=float32), array([29.333334], dtype=float32), array([36.703705], dtype=float32), array([35.], dtype=float32), array([33.], dtype=float32), array([25.7], dtype=float32)), 'workload': array([63.2962], dtype=float32), 'workload_datacentre': 1}\n",
      "{'machines_curr_state': (array([47.545456], dtype=float32), array([6.], dtype=float32), array([44.166668], dtype=float32), array([35.67442], dtype=float32), array([39.9], dtype=float32), array([38.88889], dtype=float32), array([46.333332], dtype=float32), array([42.], dtype=float32), array([34.666668], dtype=float32), array([39.857143], dtype=float32)), 'workload': array([65.81696], dtype=float32), 'workload_datacentre': 1}\n",
      "{'machines_curr_state': (array([35.4], dtype=float32), array([5.571429], dtype=float32), array([44.090908], dtype=float32), array([34.511627], dtype=float32), array([29.], dtype=float32), array([33.333332], dtype=float32), array([52.77778], dtype=float32), array([35.636364], dtype=float32), array([31.166666], dtype=float32), array([34.], dtype=float32)), 'workload': array([62.006107], dtype=float32), 'workload_datacentre': 0}\n",
      "{'machines_curr_state': (array([34.], dtype=float32), array([5.3333335], dtype=float32), array([42.272728], dtype=float32), array([33.34884], dtype=float32), array([34.6], dtype=float32), array([40.375], dtype=float32), array([53.], dtype=float32), array([29.272728], dtype=float32), array([28.875], dtype=float32), array([27.333334], dtype=float32)), 'workload': array([99.5474], dtype=float32), 'workload_datacentre': 0}\n",
      "{'machines_curr_state': (array([33.875], dtype=float32), array([5.888889], dtype=float32), array([40.454544], dtype=float32), array([38.941177], dtype=float32), array([39.18182], dtype=float32), array([28.76923], dtype=float32), array([34.37931], dtype=float32), array([39.6], dtype=float32), array([31.4], dtype=float32), array([29.], dtype=float32)), 'workload': array([83.5634], dtype=float32), 'workload_datacentre': 0}\n"
     ]
    }
   ],
   "source": [
    "terminated = False\n",
    "done = False\n",
    "env.reset()\n",
    "while not (done or terminated):\n",
    "  observation, reward, done, terminated, info = env.step(10)\n",
    "  print(observation)\n",
    "\n"
   ]
  },
  {
   "cell_type": "code",
   "execution_count": null,
   "metadata": {},
   "outputs": [],
   "source": []
  }
 ],
 "metadata": {
  "kernelspec": {
   "display_name": "Python 3.10.8 ('venv': venv)",
   "language": "python",
   "name": "python3"
  },
  "language_info": {
   "codemirror_mode": {
    "name": "ipython",
    "version": 3
   },
   "file_extension": ".py",
   "mimetype": "text/x-python",
   "name": "python",
   "nbconvert_exporter": "python",
   "pygments_lexer": "ipython3",
   "version": "3.10.8"
  },
  "orig_nbformat": 4,
  "vscode": {
   "interpreter": {
    "hash": "b1613945e647844addf2545e818613ee1909d61cc62972b9823feea8a4433a37"
   }
  }
 },
 "nbformat": 4,
 "nbformat_minor": 2
}
